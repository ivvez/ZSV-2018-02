{
 "cells": [
  {
   "cell_type": "markdown",
   "metadata": {},
   "source": [
    "# Zbirka zadataka: 6.razred"
   ]
  },
  {
   "cell_type": "markdown",
   "metadata": {},
   "source": [
    "By:IVezjak"
   ]
  },
  {
   "cell_type": "markdown",
   "metadata": {},
   "source": [
    "1.Napiši program koji unosi dva broja te ispisuje poruku jesu li brojevi jednaki ili različiti."
   ]
  },
  {
   "cell_type": "code",
   "execution_count": 8,
   "metadata": {},
   "outputs": [
    {
     "name": "stdout",
     "output_type": "stream",
     "text": [
      "upisi prvi broj: 56\n",
      "upisi drugi broj: 78\n",
      "brojevi su razliciti\n"
     ]
    }
   ],
   "source": [
    "a=int(input('upisi prvi broj: '))\n",
    "b=int(input('upisi drugi broj: '))\n",
    "if a==b:\n",
    "    print('brojevi su jednaki')\n",
    "else:\n",
    "    print('brojevi su razliciti')"
   ]
  },
  {
   "cell_type": "markdown",
   "metadata": {},
   "source": [
    "2.Napiši program koji unosi dva broja (input) te ispisuje poruku koji od ta dva broja je veći. "
   ]
  },
  {
   "cell_type": "code",
   "execution_count": 7,
   "metadata": {},
   "outputs": [
    {
     "name": "stdout",
     "output_type": "stream",
     "text": [
      "upisi prvi broj: 567\n",
      "upisi drugi broj: 342\n",
      "broj 567 je veci!\n"
     ]
    }
   ],
   "source": [
    "a=int(input('upisi prvi broj: '))\n",
    "b=int(input('upisi drugi broj: '))\n",
    "if a>b:\n",
    "    print('broj %s je veci!'%(a))\n",
    "else:\n",
    "    print('broj %s je veci!'%(b))"
   ]
  },
  {
   "cell_type": "markdown",
   "metadata": {},
   "source": [
    "3.Napiši program koji unosi jedan broj te ispisuje je li taj broj veći ili manji od 100. "
   ]
  },
  {
   "cell_type": "code",
   "execution_count": 6,
   "metadata": {},
   "outputs": [
    {
     "name": "stdout",
     "output_type": "stream",
     "text": [
      "upisi broj: 567\n",
      "broj je veci od 100\n"
     ]
    }
   ],
   "source": [
    "a=int(input('upisi broj: '))\n",
    "if a>100:\n",
    "    print ('broj je veci od 100')\n",
    "else:\n",
    "    print ('broj je manji od 100')"
   ]
  },
  {
   "cell_type": "markdown",
   "metadata": {},
   "source": [
    "4.Napiši program koji unosi duljine stranica a i b te ispisuje poruku radi li se o kvadratu ili pravokutniku."
   ]
  },
  {
   "cell_type": "code",
   "execution_count": 5,
   "metadata": {},
   "outputs": [
    {
     "name": "stdout",
     "output_type": "stream",
     "text": [
      "duljina stranice a: 6\n",
      "duljina stranice b: 6\n",
      "Kvadrat\n"
     ]
    }
   ],
   "source": [
    "a=int(input('duljina stranice a: '))\n",
    "b=int(input('duljina stranice b: '))\n",
    "if a==b:\n",
    "    print ('Kvadrat')\n",
    "else:\n",
    "    print ('Pravokutnik')"
   ]
  },
  {
   "cell_type": "markdown",
   "metadata": {},
   "source": [
    " 5.Napiši program koji unosi rezultat nogometne utakmice za Španjolsku i Hrvatsku te ispisuje tekst ‘Španjolska je pobjednik’ u slučaju da je Španjolska pobijedila, tekst ‘Hrvatska je pobjednik’ u slučaju da je Hrvatska pobijedila ili tekst ‘Neriješeno’ u slučaju da su obje ekipe osvojile jednak broj bodova. "
   ]
  },
  {
   "cell_type": "code",
   "execution_count": 11,
   "metadata": {},
   "outputs": [
    {
     "name": "stdout",
     "output_type": "stream",
     "text": [
      "Rezultat HR: 5\n",
      "Rezultat SP: 3\n",
      "Hrvatska je pobjednik\n"
     ]
    }
   ],
   "source": [
    "h=int(input('Rezultat HR: '))\n",
    "s=int(input('Rezultat SP: '))\n",
    "if h>s:\n",
    "    print ('Hrvatska je pobjednik')\n",
    "elif h<s:\n",
    "    print ('Spanjolska je pobjednik')\n",
    "elif h==s:\n",
    "    print ('Nerijeseno')"
   ]
  },
  {
   "cell_type": "markdown",
   "metadata": {},
   "source": [
    "6.Napiši program koji unosi jedan broj te ispisuje poruku je li učitani broj paran ili ne."
   ]
  },
  {
   "cell_type": "code",
   "execution_count": 12,
   "metadata": {},
   "outputs": [
    {
     "name": "stdout",
     "output_type": "stream",
     "text": [
      "Upiši broj: 78\n",
      "Broj je paran\n"
     ]
    }
   ],
   "source": [
    "a=int(input('Upiši broj: '))\n",
    "if a%2==0:\n",
    "    print ('Broj je paran')\n",
    "else:\n",
    "    print ('Broj je neparan')"
   ]
  },
  {
   "cell_type": "markdown",
   "metadata": {},
   "source": [
    "7.Napiši program koji unosi jedan broj te ispisuje poruku je li učitani broj djeljiv s 5 ili ne."
   ]
  },
  {
   "cell_type": "code",
   "execution_count": 13,
   "metadata": {},
   "outputs": [
    {
     "name": "stdout",
     "output_type": "stream",
     "text": [
      "Upiši broj: 50\n",
      "Broj je djeljiv s 5\n"
     ]
    }
   ],
   "source": [
    "a=int(input('Upiši broj: '))\n",
    "if a%2==0:\n",
    "    print ('Broj je djeljiv s 5')\n",
    "else:\n",
    "    print ('Broj nije djeljiv s 5')"
   ]
  },
  {
   "cell_type": "markdown",
   "metadata": {},
   "source": [
    "8.Napiši program koji unosi dob putnika te ispisuje poruku o cijeni karte prema pravilima: \n",
    "* osobe mlađe od 8 godina voze se besplatno\n",
    "* osobe od 8-18 godina plaćaju kartu 5 kn\n",
    "* osobe starije od 65 godina plaćaju kartu 1 kn\n",
    "* sve ostale osobe plaćaju kartu 8 kn"
   ]
  },
  {
   "cell_type": "code",
   "execution_count": 14,
   "metadata": {},
   "outputs": [
    {
     "name": "stdout",
     "output_type": "stream",
     "text": [
      "Upiši starosnu dob putnika: 12\n",
      "karta je 5kn\n"
     ]
    }
   ],
   "source": [
    "a=int(input('Upiši starosnu dob putnika: '))\n",
    "if a<8:\n",
    "    print('karta je besplatna')\n",
    "elif a>=8 and a<18:\n",
    "    print('karta je 5kn')\n",
    "elif a>65:\n",
    "    print('karta je 1kn')\n",
    "else:\n",
    "    print('karta je 8kn')"
   ]
  },
  {
   "cell_type": "markdown",
   "metadata": {},
   "source": [
    "9.Napiši program koji provjerava duljinu lozinke. Ako upisana lozinka ima manje od 8 znakova, ispisat će se poruka: Slaba lozinka. Ako lozinka ima 8 ili više znakova ispisat će se poruka: Jaka lozinka."
   ]
  },
  {
   "cell_type": "code",
   "execution_count": 15,
   "metadata": {},
   "outputs": [
    {
     "name": "stdout",
     "output_type": "stream",
     "text": [
      "Upiši lozinku: luka123\n",
      "Slaba lozinka\n"
     ]
    }
   ],
   "source": [
    "a=input('Upiši lozinku: ')\n",
    "if len(a)<8:\n",
    "    print ('Slaba lozinka')\n",
    "else:\n",
    "    print ('Jaka lozinka')\n",
    "    "
   ]
  },
  {
   "cell_type": "markdown",
   "metadata": {},
   "source": [
    "10.Proširi prethodni program za provjeru lozinke tako da se poruka 'Jaka lozinka' ispiše u slučaju ako lozinka ima više od 8 znakova i od toga barem jedan broj!"
   ]
  },
  {
   "cell_type": "code",
   "execution_count": 18,
   "metadata": {},
   "outputs": [
    {
     "name": "stdout",
     "output_type": "stream",
     "text": [
      "Upiši lozinku: perouciinformatiku\n",
      "Slaba lozinka\n"
     ]
    }
   ],
   "source": [
    "a=input('Upiši lozinku: ')\n",
    "if len(a)<8 or a.isalpha():\n",
    "    print ('Slaba lozinka')\n",
    "else:\n",
    "    print ('Jaka lozinka')\n",
    "    "
   ]
  },
  {
   "cell_type": "markdown",
   "metadata": {},
   "source": [
    "11.Ana i Tin sudjelovali su u kvizu znanja. Svako od njih odgovarao je na tri pitanja i za svako pitanje osvojili su 1,2 ili 3 boda. Napiši program koji će izračunati koliko bodova su ukupno osvojili te tko je pobjedio u kvizu! Osvojene bodove unesi pomoću tipkovnice.\n",
    "    "
   ]
  },
  {
   "cell_type": "code",
   "execution_count": 21,
   "metadata": {},
   "outputs": [
    {
     "name": "stdout",
     "output_type": "stream",
     "text": [
      "Prvo pitanje Ana: 6\n",
      "Drugo pitanje Ana: 7\n",
      "Treće pitanje Ana: 5\n",
      "Prvo pitanje Tin: 4\n",
      "Drugo pitanje Tin: 7\n",
      "Treće pitanje Tin: 5\n",
      "Ana je ukupno osvojila 18 bodova.\n",
      "Tin je ukupno osvojio 16 bodova.\n",
      "Ana je pobjednik!\n"
     ]
    }
   ],
   "source": [
    "a1=int(input('Prvo pitanje Ana: '))\n",
    "a2=int(input('Drugo pitanje Ana: '))\n",
    "a3=int(input('Treće pitanje Ana: '))\n",
    "t1=int(input('Prvo pitanje Tin: '))\n",
    "t2=int(input('Drugo pitanje Tin: '))\n",
    "t3=int(input('Treće pitanje Tin: '))\n",
    "au=a1+a2+a3\n",
    "tu=t1+t2+t3\n",
    "print ('Ana je ukupno osvojila %s bodova.'%(au))\n",
    "print ('Tin je ukupno osvojio %s bodova.'%(tu))\n",
    "if au>tu:\n",
    "    print ('Ana je pobjednik!')\n",
    "else:\n",
    "    print ('Tin je pobjednik!')"
   ]
  },
  {
   "cell_type": "markdown",
   "metadata": {},
   "source": [
    "12.Napiši program koji prevodi boje (barem tri) s hrvatskog na engleksi jezik. Ukoliko upišemo nešto drugo osim boje, pojavit će se poruka: Ta boja ne postoji u programu."
   ]
  },
  {
   "cell_type": "code",
   "execution_count": 1,
   "metadata": {},
   "outputs": [
    {
     "name": "stdout",
     "output_type": "stream",
     "text": [
      "Upiši boju: zelena\n",
      "zelena - green\n"
     ]
    }
   ],
   "source": [
    "b=input('Upiši boju: ')\n",
    "if b=='plava':\n",
    "    print ('plava - blue')\n",
    "elif b=='zelena':\n",
    "    print ('zelena - green')\n",
    "elif b=='crvena':\n",
    "    print ('crvena - red')\n",
    "else:\n",
    "    print ('Ta boja ne postoji u programu!')"
   ]
  },
  {
   "cell_type": "markdown",
   "metadata": {},
   "source": [
    "13.Napiši program koji unosi korisničko ime te provjerava je li korisničko ime upisano ili ne. Ukoliko je ispisat ce pozdravnu poruku, a ako nije ispisat će poruku: \"Niste upisali korisničko ime.\""
   ]
  },
  {
   "cell_type": "code",
   "execution_count": 2,
   "metadata": {},
   "outputs": [
    {
     "name": "stdout",
     "output_type": "stream",
     "text": [
      "Upiši korisničko ime: \n",
      "Niste upisali korisničko ime!\n"
     ]
    }
   ],
   "source": [
    "a=input('Upiši korisničko ime: ')\n",
    "if a=='':\n",
    "    print ('Niste upisali korisničko ime!')\n",
    "else:\n",
    "    print ('Bok, %s!'%(a))"
   ]
  },
  {
   "cell_type": "markdown",
   "metadata": {},
   "source": [
    "14.Napiši program *PigLatin prevoditelj* koji neku učitanu riječ s tipkovnice mijenja tako da prvo slovo premjesti na kraj i potom na novu riječ doda nastavak -py. Program treba ispisati novu riječ."
   ]
  },
  {
   "cell_type": "code",
   "execution_count": 4,
   "metadata": {},
   "outputs": [
    {
     "name": "stdout",
     "output_type": "stream",
     "text": [
      "Upisi riječ: informatika\n",
      "Vaša riječ:  informatika\n",
      "Nova riječ:  nformatikaipy\n"
     ]
    }
   ],
   "source": [
    "r=input('Upisi riječ: ')\n",
    "nastavak = 'py'\n",
    "\n",
    "if len(r) > 0 and r.isalpha():\n",
    "  r1=r.lower()\n",
    "  print ('Vaša riječ: ',r1)\n",
    "  prvo=r1[0]\n",
    "  nova=r1+prvo+nastavak\n",
    "  nova=nova[1:]\n",
    "  print ('Nova riječ: ',nova)\n",
    " \n",
    "else:\n",
    "  print ('Niste upisali riječ!')\n"
   ]
  },
  {
   "cell_type": "markdown",
   "metadata": {},
   "source": [
    "15.Napiši program koji 5 puta ispisuje tvoje ime pomoću petlje for."
   ]
  },
  {
   "cell_type": "code",
   "execution_count": 6,
   "metadata": {},
   "outputs": [
    {
     "name": "stdout",
     "output_type": "stream",
     "text": [
      "Marko\n",
      "Marko\n",
      "Marko\n",
      "Marko\n",
      "Marko\n"
     ]
    }
   ],
   "source": [
    "for i in range(5):\n",
    "    print ('Marko')"
   ]
  },
  {
   "cell_type": "markdown",
   "metadata": {},
   "source": [
    "16.Napiši program koji 4 puta ispisuje tvoje ime pomoću petlje for i zatim jednom tvoje prezime ispod svih imena."
   ]
  },
  {
   "cell_type": "code",
   "execution_count": 7,
   "metadata": {},
   "outputs": [
    {
     "name": "stdout",
     "output_type": "stream",
     "text": [
      "Marko\n",
      "Marko\n",
      "Marko\n",
      "Marko\n",
      "Marković\n"
     ]
    }
   ],
   "source": [
    "for i in range(4):\n",
    "    print ('Marko')\n",
    "print ('Marković')"
   ]
  },
  {
   "cell_type": "markdown",
   "metadata": {},
   "source": [
    "17.Napiši program koji pomoću petlje for ispisuje brojeve od 1-10 jedan ispod drugog."
   ]
  },
  {
   "cell_type": "code",
   "execution_count": 12,
   "metadata": {},
   "outputs": [
    {
     "name": "stdout",
     "output_type": "stream",
     "text": [
      "1\n",
      "2\n",
      "3\n",
      "4\n",
      "5\n",
      "6\n",
      "7\n",
      "8\n",
      "9\n",
      "10\n"
     ]
    }
   ],
   "source": [
    "for i in range(1,11):\n",
    "    print (i)"
   ]
  },
  {
   "cell_type": "markdown",
   "metadata": {},
   "source": [
    "18.Napiši program koji pomoću petlje for ispisuje brojeve od 1-10 jedan pored drugog."
   ]
  },
  {
   "cell_type": "code",
   "execution_count": 14,
   "metadata": {},
   "outputs": [
    {
     "name": "stdout",
     "output_type": "stream",
     "text": [
      "1 2 3 4 5 6 7 8 9 10 "
     ]
    }
   ],
   "source": [
    "for i in range(1,11):\n",
    "    print(i, end = ' ')"
   ]
  },
  {
   "cell_type": "markdown",
   "metadata": {},
   "source": [
    "19.Napiši program koji pomoću petlje for ispisuje sve parne brojeve od 40 do 60  jedan pored drugoga. "
   ]
  },
  {
   "cell_type": "code",
   "execution_count": 16,
   "metadata": {},
   "outputs": [
    {
     "name": "stdout",
     "output_type": "stream",
     "text": [
      "40 42 44 46 48 50 52 54 56 58 60 "
     ]
    }
   ],
   "source": [
    "for i in range(40,61):\n",
    "    if i%2==0:\n",
    "        print(i, end = ' ')"
   ]
  },
  {
   "cell_type": "markdown",
   "metadata": {},
   "source": [
    "20.Napiši program koji pomoću petlje for ispisuje brojeve djeljive s pet od 100-150 jedan ispod drugoga. "
   ]
  },
  {
   "cell_type": "code",
   "execution_count": 17,
   "metadata": {},
   "outputs": [
    {
     "name": "stdout",
     "output_type": "stream",
     "text": [
      "100 105 110 115 120 125 130 135 140 145 150 "
     ]
    }
   ],
   "source": [
    "for i in range(100,151):\n",
    "    if i%5==0:\n",
    "        print(i, end = ' ')"
   ]
  },
  {
   "cell_type": "markdown",
   "metadata": {},
   "source": [
    "21.Napiši program koji ispisuje slovo po slovo,jedno ispod drugoga, pomoću naredbe for riječ ‘sunce’."
   ]
  },
  {
   "cell_type": "code",
   "execution_count": 19,
   "metadata": {},
   "outputs": [
    {
     "name": "stdout",
     "output_type": "stream",
     "text": [
      "s\n",
      "u\n",
      "n\n",
      "c\n",
      "e\n"
     ]
    }
   ],
   "source": [
    "a='sunce'\n",
    "for i in a:\n",
    "    print(i)"
   ]
  },
  {
   "cell_type": "markdown",
   "metadata": {},
   "source": [
    "22.Napiši program koji za upisanu riječ ispisuje samo samoglasnike."
   ]
  },
  {
   "cell_type": "code",
   "execution_count": 22,
   "metadata": {},
   "outputs": [
    {
     "name": "stdout",
     "output_type": "stream",
     "text": [
      "Upiši riječ: informatika\n",
      "i\n",
      "o\n",
      "a\n",
      "i\n",
      "a\n"
     ]
    }
   ],
   "source": [
    "a=input('Upiši riječ: ')\n",
    "for i in a:\n",
    "    if i in 'aeiouAEIOU':\n",
    "        print (i)"
   ]
  },
  {
   "cell_type": "markdown",
   "metadata": {},
   "source": [
    "23.Proširi prethodni program tako da umjesto samoglasnika program prebroji i ispiše broj samoglasnika u riječi."
   ]
  },
  {
   "cell_type": "code",
   "execution_count": 23,
   "metadata": {},
   "outputs": [
    {
     "name": "stdout",
     "output_type": "stream",
     "text": [
      "Upiši riječ: informatika\n",
      "Broj samoglasnika:  5\n"
     ]
    }
   ],
   "source": [
    "a=input('Upiši riječ: ')\n",
    "sam=0\n",
    "for i in a:\n",
    "    if i in 'aeiouAEIOU':\n",
    "        sam+=1\n",
    "print ('Broj samoglasnika: ', sam)"
   ]
  },
  {
   "cell_type": "markdown",
   "metadata": {},
   "source": [
    "24.Proširi prethodni program tako da ispisuje broj samoglasnika, broj suglasnika i broj svih ostalih znakova."
   ]
  },
  {
   "cell_type": "code",
   "execution_count": 25,
   "metadata": {},
   "outputs": [
    {
     "name": "stdout",
     "output_type": "stream",
     "text": [
      "Upiši riječ: #informatika24\n",
      "Broj samoglasnika:  5\n",
      "Broj suglasnika:  6\n",
      "Broj ostalih znakova:  3\n"
     ]
    }
   ],
   "source": [
    "a=input('Upiši riječ: ')\n",
    "sam=0\n",
    "sug=0\n",
    "ost=0\n",
    "for i in a:\n",
    "    if i in 'aeiouAEIOU':\n",
    "        sam+=1\n",
    "    elif i.isalpha():\n",
    "        sug+=1\n",
    "    else:\n",
    "        ost+=1\n",
    "print ('Broj samoglasnika: ', sam)\n",
    "print ('Broj suglasnika: ', sug)\n",
    "print ('Broj ostalih znakova: ', ost)"
   ]
  },
  {
   "cell_type": "markdown",
   "metadata": {},
   "source": [
    "25.Napiši program za popularni *Ljubavni kalkulator*. Za dva učitana imena (muško i žensko) program treba samostalno predvidjeti postotak sretne veze."
   ]
  },
  {
   "cell_type": "code",
   "execution_count": 27,
   "metadata": {},
   "outputs": [
    {
     "name": "stdout",
     "output_type": "stream",
     "text": [
      "Žensko ime: Petra\n",
      "Muško ime: Petar\n",
      "37 %\n"
     ]
    }
   ],
   "source": [
    "import random\n",
    "a=input('Žensko ime: ')\n",
    "b=input('Muško ime: ')\n",
    "postotak = random.randint(1,101)\n",
    "print (postotak,'%')"
   ]
  },
  {
   "cell_type": "markdown",
   "metadata": {},
   "source": [
    "26.Napiši program koji slučajnim odabirom odabire jednog učenika s popisa. Popis od nekoliko učenika stavi u listu []."
   ]
  },
  {
   "cell_type": "code",
   "execution_count": 28,
   "metadata": {},
   "outputs": [
    {
     "name": "stdout",
     "output_type": "stream",
     "text": [
      "Luka\n"
     ]
    }
   ],
   "source": [
    "import random\n",
    "ucenici=['Pero','Ivo','Ana','Iva','Luka','Josipa']\n",
    "print (random.choice(ucenici))"
   ]
  },
  {
   "cell_type": "markdown",
   "metadata": {},
   "source": [
    "27.Poznati Hobit Bilbo Baggins jednoga je dana na putu u *Shire* u šumi pronašao veliki lonac neobičnog napitka. Bio je to čarobni napitak. **Kada god bi popio jednu čašu napitka, Bilbo bi narastao za 16.46 cm.** Što ga je činilo vrlo sretnim, pošto je poznato da je **visok samo 112 cm**. No morao je biti pažljiv: U jednom danu nije smio popiti više od 7 čaša napitka. Ako bi popio **više od 7 čaša**, smanjio bi se na veličinu komarca: **0.43 cm**. \n",
    "\n",
    "Ako znamo koliko je Bilbo čaša napitaka popio na dan, napiši program koji će izračunati i ispisati koliko je cm Bilbo bio visok na kraju dana. Visinu zaokruži na dvije decimale. \n",
    "\n",
    "Uz rezultat ispiši poruku koja opisuje njegovu visinu:\n",
    "\n",
    "•\tAko je visina 0.43 ispisat će se poruka KOMARAC.\n",
    "\n",
    "•\tAko je visina >0.43 i visina <112 cm ispisat će se poruka HOBIT\n",
    "\n",
    "•\tAko je visina >112 i visina <190 ispisat će se poruka COVJEK\n",
    "\n",
    "•\tAko je visina >190 ispisat će se poruka VILENJAK\n"
   ]
  },
  {
   "cell_type": "code",
   "execution_count": null,
   "metadata": {},
   "outputs": [],
   "source": []
  },
  {
   "cell_type": "markdown",
   "metadata": {},
   "source": [
    "28.Vinko i njegov prijatelj Janko smislili su novu igru. Prvi je na redu Vinko i n puta baca kockicu. Ako dobije paran broj, Janko mu mora dati 2 sličice nogometaša, ako dobije neparan broj, on Janku mora dati tri sličice nogometaša. Ako se dogodi da Vinko ili Janko ostaju bez sličica igra prestaje. \n",
    "\n",
    "Napiši program koji će ispisati koliko je ukupno sličica osvojio Vinko, koliko Janko te u redak ispod toga poruku tko je pobjednik Vinko ili Janko.\n",
    "\n",
    "**Ulazni podaci:** Broj sličica koje posjednuje Vinko, broj sličica koje posjeduje Janko, broj bacanja kocke i u sljedećih n redaka b broj koji je Vinko dobio."
   ]
  },
  {
   "cell_type": "code",
   "execution_count": 1,
   "metadata": {},
   "outputs": [
    {
     "name": "stdout",
     "output_type": "stream",
     "text": [
      "Vinko:20\n",
      "Janko:24\n",
      "3\n",
      "4\n",
      "3\n",
      "7\n",
      "16 28\n",
      "JANKO\n"
     ]
    }
   ],
   "source": [
    "v=int(input('Vinko:'))\n",
    "j=int(input('Janko:'))\n",
    "n=int(input())\n",
    "for i in range(n):\n",
    "    b=int(input())\n",
    "    if b%2==0:\n",
    "        v=v+2\n",
    "        j=j-2\n",
    "        if j<=1:\n",
    "            v=v+1\n",
    "            j=0\n",
    "            break\n",
    "        \n",
    "    else:\n",
    "        j=j+3\n",
    "        v=v-3\n",
    "        if v<=2:\n",
    "            j=j+2 \n",
    "            v=0\n",
    "            break\n",
    "    \n",
    "    \n",
    "\n",
    "print (v,j)\n",
    "if v>j:\n",
    "    print ('VINKO')\n",
    "else:\n",
    "    print ('JANKO')\n",
    "        "
   ]
  },
  {
   "cell_type": "markdown",
   "metadata": {},
   "source": [
    "29.Jan se za vrijeme praznika preselio u Zagreb. Novi ljudi, novo susjedstvo i jako neobična, napuštena kuća na kraju ulice. Kuća je jako velika, kao dvorac. Jan je za vrijeme praznika često odlazio tamo i istraživao kuću. Kuća je imala jako puno soba označenih brojevima od 1 do n.Primjetio je nešto jako čudno -broj soba u kući bi se svaki dan mijenjao. A svaki dan iz svake sedme sobe čuo bi se zvuk violine. \n",
    "\n",
    "Kako bi pronašao neki predložak tj.neko pravilo po kojemu se sobe mijenjaju Jan je odlučio napisati program, no treba mu i tvoja pomoć. \n",
    "\n",
    "Potrebno je učitati broj soba u kućinte na temelju toga ispisati:\n",
    "* u koliko soba će se čuti zvuk violine\n",
    "* koliko soba ima paran broj\n",
    "\n",
    "**Ulazni podatak:** ukupan broj soba"
   ]
  },
  {
   "cell_type": "code",
   "execution_count": 5,
   "metadata": {},
   "outputs": [
    {
     "name": "stdout",
     "output_type": "stream",
     "text": [
      "20\n",
      "Parnih soba: 10\n",
      "Zvuk violine: 2\n"
     ]
    }
   ],
   "source": [
    "n=int(input())\n",
    "p=0\n",
    "v=0\n",
    "for i in range(1,n+1):\n",
    "    if i%2==0:\n",
    "        p+=1\n",
    "    if i%7==0:\n",
    "        v+=1\n",
    "print ('Parnih soba:', p)\n",
    "print ('Zvuk violine:', v)"
   ]
  },
  {
   "cell_type": "markdown",
   "metadata": {},
   "source": [
    "30.Napiši program koji učitava n brojeva te ispisuje:\n",
    "\n",
    "* koliko od tih nbrojeva je dijeljivo s tri\n",
    "* koliko od tih nbrojeva ima zadnju znamenku broj 6\n",
    "* zbroj svih n brojeva\n",
    "* najveći od učitanih brojeva"
   ]
  },
  {
   "cell_type": "code",
   "execution_count": 11,
   "metadata": {},
   "outputs": [
    {
     "name": "stdout",
     "output_type": "stream",
     "text": [
      "4\n",
      "36\n",
      "9\n",
      "26\n",
      "1\n",
      "Dijeljivo s tri: 2\n",
      "Zadnja znamenka 6: 2\n",
      "Zbroj brojeva: 72\n",
      "Najveci od ucitanih 36\n"
     ]
    }
   ],
   "source": [
    "n=int(input())\n",
    "sest=0\n",
    "tri=0\n",
    "lista=[]\n",
    "for i in range(n):\n",
    "    b=int(input())\n",
    "    lista.append(b)\n",
    "    if b%3==0:\n",
    "        tri+=1\n",
    "    b=str(b)\n",
    "    if b[-1]=='6':\n",
    "        sest+=1\n",
    "            \n",
    "print ('Dijeljivo s tri:',tri)\n",
    "print ('Zadnja znamenka 6:',sest)\n",
    "print ('Zbroj brojeva:', sum(lista))\n",
    "print ('Najveci od ucitanih', max(lista))"
   ]
  }
 ],
 "metadata": {
  "kernelspec": {
   "display_name": "Python 3",
   "language": "python",
   "name": "python3"
  },
  "language_info": {
   "codemirror_mode": {
    "name": "ipython",
    "version": 3
   },
   "file_extension": ".py",
   "mimetype": "text/x-python",
   "name": "python",
   "nbconvert_exporter": "python",
   "pygments_lexer": "ipython3",
   "version": "3.5.4"
  }
 },
 "nbformat": 4,
 "nbformat_minor": 2
}
