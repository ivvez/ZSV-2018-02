{
 "cells": [
  {
   "cell_type": "markdown",
   "metadata": {},
   "source": [
    "### Moonhack challenge \n",
    "Autor: DB, 7.a"
   ]
  },
  {
   "cell_type": "markdown",
   "metadata": {
    "collapsed": true
   },
   "source": [
    "Moonhack je projekt organiziran od strane Code Club Australia te u njemu mogu sudjelovati učenici 7-18 godine.Učenici mogu rješavati \n",
    "zadatke u 3 programska jezika (Python, Scratch i Scratch Jr.).Tema svih zadataka je svemir. Zadatak je bio detaljno objašnjen te ga nisam dugo rješavao.U zadatku piše da je 2049. godina i da sam upravo sletio na Mjesec.Od mjesta gdje sam sletio do baze je potrebno 3 dana putovanja roverom.Zadatak mi je bio napisati program u kojem biram 4 od 9 točna predmeta koja su mi potrebna za preživljavanje ta 3 dana.Ako birani predmeti nisu na mojoj listi potrebnih za preživljavanje, program mora ispisati razloge zašto bi oni trebali biti, a ako jesu onda program mora ispisati da ću uspješno doći do baze."
   ]
  },
  {
   "cell_type": "code",
   "execution_count": 2,
   "metadata": {},
   "outputs": [
    {
     "name": "stdout",
     "output_type": "stream",
     "text": [
      "It is the year 2049. You are on a solo mission to restock the base on the moon with soil and seeds to grow more plants.\n",
      "You have just landed but you are in trouble. You have landed 300 kilometers from the moon base!\n",
      "You can get to the base in 3 days on your lunar rover\n",
      "The lunar rover can only fit you in your spacesuit and 4 other items\n",
      "Out of the items below, which do you bring? \n",
      "\n",
      "A: 3 litres of water\n",
      "B: Shampoo\n",
      "C: An extra Spacesuit\n",
      "D: A shovel\n",
      "E: A 10 day oxygen supply\n",
      "F: Solar panels\n",
      "G: The seeds for your mission\n",
      "H: The soil for your mission\n",
      "I: A 3 day food supply\n",
      "Type the letter of the 4 items you would like to bring seperated by commas. Do not add spaces \n",
      " Ex: A,B,C,D\n",
      "Enter your choice: E, I, A\n",
      "Without a litre of water a day you will dehydrate.\n",
      "Without solar panels your lunar rover will not have enough power to make it to the base\n",
      "You will not make it to the moon base without food.You will need your energy to drive a rover.\n",
      "You did not pick the correct 4 items for survival.You will not make it safely to the moon base\n"
     ]
    }
   ],
   "source": [
    " #!/bin/python3\n",
    " \n",
    "items = [\n",
    "\"A: 3 litres of water\",\n",
    "\"B: Shampoo\",\n",
    "\"C: An extra Spacesuit\",\n",
    "\"D: A shovel\",\n",
    "\"E: A 10 day oxygen supply\",\n",
    "\"F: Solar panels\",\n",
    "\"G: The seeds for your mission\",\n",
    "\"H: The soil for your mission\",\n",
    "\"I: A 3 day food supply\"\n",
    "]\n",
    "\n",
    "print(\"It is the year 2049. You are on a solo mission to restock the base on the moon with soil and seeds to grow more plants.\")\n",
    "print(\"You have just landed but you are in trouble. You have landed 300 kilometers from the moon base!\")\n",
    "print(\"You can get to the base in 3 days on your lunar rover\")\n",
    "print(\"The lunar rover can only fit you in your spacesuit and 4 other items\")\n",
    "print(\"Out of the items below, which do you bring? \\n\")\n",
    "\n",
    "for objects in items:\n",
    "  print(objects)\n",
    "  \n",
    "print(\"Type the letter of the 4 items you would like to bring seperated by commas. Do not add spaces \\n Ex: A,B,C,D\")\n",
    "user_choice=input(\"Enter your choice: \")\n",
    "#print(user_choice)\n",
    "\n",
    "user_list=list(user_choice.split(','))\n",
    "#print(user_list)\n",
    "\n",
    "if \"A\" not in user_list:\n",
    "  print(\"Without a litre of water a day you will dehydrate.\")\n",
    "if \"E\" not in user_list:\n",
    "  print(\"Without oxygen you will not have any air to breathe.\")\n",
    "if \"F\" not in user_list:\n",
    "  print(\"Without solar panels your lunar rover will not have enough power to make it to the base\")\n",
    "if \"I\" not in user_list:\n",
    "  print(\"You will not make it to the moon base without food.You will need your energy to drive a rover.\")\n",
    "  \n",
    "if \"A\" in user_list and \"E\" in user_list and \"F\" in user_list and \"I\" in user_list:\n",
    "  print(\"Hooray!You picked the correct 4 items.You will make it to the moonbase safely.\")\n",
    "else:\n",
    "  print(\"You did not pick the correct 4 items for survival.You will not make it safely to the moon base\")"
   ]
  },
  {
   "cell_type": "markdown",
   "metadata": {},
   "source": [
    "Poveznica na projekt:\n",
    "    \n",
    "<https://www.moonhack.com/projects-croatian>"
   ]
  },
  {
   "cell_type": "markdown",
   "metadata": {},
   "source": [
    "![alt text](images/mjesec.jpg)\n"
   ]
  },
  {
   "cell_type": "markdown",
   "metadata": {},
   "source": [
    "Izvor slika: <https://en.wikipedia.org/wiki/Moon>"
   ]
  }
 ],
 "metadata": {
  "kernelspec": {
   "display_name": "Python 3",
   "language": "python",
   "name": "python3"
  },
  "language_info": {
   "codemirror_mode": {
    "name": "ipython",
    "version": 3
   },
   "file_extension": ".py",
   "mimetype": "text/x-python",
   "name": "python",
   "nbconvert_exporter": "python",
   "pygments_lexer": "ipython3",
   "version": "3.5.4"
  }
 },
 "nbformat": 4,
 "nbformat_minor": 2
}
