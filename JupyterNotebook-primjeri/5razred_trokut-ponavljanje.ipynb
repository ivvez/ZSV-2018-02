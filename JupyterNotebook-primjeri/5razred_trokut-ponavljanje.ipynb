{
 "cells": [
  {
   "cell_type": "markdown",
   "metadata": {
    "collapsed": true
   },
   "source": [
    "# Trokut"
   ]
  },
  {
   "cell_type": "markdown",
   "metadata": {},
   "source": [
    "Trokut je dio ravnine omeđen s tri dužine. **Stranice** trokuta su dužine koje omeđuju trokut. Krajnje točke stranica trokuta su **vrhovi** trokuta. Trokut ima tri stranice, tri vrha i tri unutarnja kuta."
   ]
  },
  {
   "cell_type": "markdown",
   "metadata": {},
   "source": [
    "Trokuti s obzirom na vrste kutova:\n",
    "    \n",
    "* Šiljastokutni trokut - sva tri kuta šiljasta.\n",
    "\n",
    "* Pravokutni trokut - jedan kut pravi kut (ostali su šiljasti).\n",
    "\n",
    "* Tupokutni trokut - jedan kut tupi kut (ostali su šiljasti)."
   ]
  },
  {
   "cell_type": "markdown",
   "metadata": {},
   "source": [
    "*Zadatak:* Napiši program koji za učitane kutove trokuta a,b,g ispisuje poruku je li učitani trokut pravokutni ili ne."
   ]
  },
  {
   "cell_type": "code",
   "execution_count": 6,
   "metadata": {},
   "outputs": [
    {
     "name": "stdout",
     "output_type": "stream",
     "text": [
      "Unesi kut: 30\n",
      "Unesi kut: 60\n",
      "Unesi kut: 90\n",
      "Trokut je pravokutan\n"
     ]
    }
   ],
   "source": [
    "a=int(input('Unesi kut: '))\n",
    "b=int(input('Unesi kut: '))\n",
    "g=int(input('Unesi kut: '))\n",
    "if a==90 or b==90 or g==90:\n",
    "    print ('Trokut je pravokutan')\n",
    "else:\n",
    "    print ('Trokut nije pravokutan')"
   ]
  },
  {
   "cell_type": "markdown",
   "metadata": {},
   "source": [
    "Trokuti s obzirom na duljine stranica mogu biti:"
   ]
  },
  {
   "cell_type": "markdown",
   "metadata": {},
   "source": [
    "* Raznostranični trokut je trokut kojemu su sve tri stranice različite duljine.\n",
    "\n",
    "* Jednakokračni trokut je trokut kojemu su dvije stranice jednake duljine.\n",
    "\n",
    "* Jednakostranični trokut je trokut kojemu su sve tri stranice jednake duljine."
   ]
  },
  {
   "cell_type": "markdown",
   "metadata": {},
   "source": [
    "*Zadatak*: Napiši program koji unosi duljine stranica trokuta a,b i c te ispisuje poruku je li učitani trokut raznostraničan, jednakokračan ili jednakostraničan."
   ]
  },
  {
   "cell_type": "code",
   "execution_count": 2,
   "metadata": {},
   "outputs": [
    {
     "name": "stdout",
     "output_type": "stream",
     "text": [
      "Duljina stranice a: 5\n",
      "Duljina stranice b: 6\n",
      "Duljina stranice c: 5\n",
      "Jednakokračan trokut\n"
     ]
    }
   ],
   "source": [
    "a=int(input('Duljina stranice a: '))\n",
    "b=int(input('Duljina stranice b: '))\n",
    "c=int(input('Duljina stranice c: '))\n",
    "if a==b or a==c or b==c:\n",
    "    print ('Jednakokračan trokut')\n",
    "elif a==b and b==c and c==a:\n",
    "    print ('Jednakostraničan trokut')\n",
    "else:\n",
    "    print ('Raznostraničan trokut')"
   ]
  },
  {
   "cell_type": "markdown",
   "metadata": {},
   "source": [
    "**Opseg** trokuta je zbroj duljina svih njegovih stranica."
   ]
  },
  {
   "cell_type": "markdown",
   "metadata": {},
   "source": [
    "Opseg raznostraničnog trokuta:     $O = a + b + c$\n",
    "\n",
    "Opseg jednakokračnog trokuta:      $O = a + 2 · b$\n",
    "\n",
    "Opseg jednakostraničnog trokuta:   $O = 3 · a$\n"
   ]
  },
  {
   "cell_type": "markdown",
   "metadata": {},
   "source": [
    "*Zadatak:* Napiši program koji će za učitanu duljinu stranice a ispisati opseg jednakostraničnog trokuta."
   ]
  },
  {
   "cell_type": "code",
   "execution_count": 4,
   "metadata": {},
   "outputs": [
    {
     "name": "stdout",
     "output_type": "stream",
     "text": [
      "Duljina stranice a: 5\n",
      "Opseg:  15\n"
     ]
    }
   ],
   "source": [
    "a=int(input('Duljina stranice a: '))\n",
    "print ('Opseg: ',3*a )"
   ]
  },
  {
   "cell_type": "markdown",
   "metadata": {},
   "source": [
    "*Zadatak:* Napiši program koji će za učitani opseg jednakostraničnog trokuta ispisati duljinu njegovih stranica."
   ]
  },
  {
   "cell_type": "code",
   "execution_count": 2,
   "metadata": {},
   "outputs": [
    {
     "name": "stdout",
     "output_type": "stream",
     "text": [
      "Opseg: 15\n",
      "Duljina stranice: 5.0\n"
     ]
    }
   ],
   "source": [
    "o=int(input('Opseg: '))\n",
    "print ('Duljina stranice:', o/3)"
   ]
  },
  {
   "cell_type": "markdown",
   "metadata": {},
   "source": [
    "**Površina pravokutnog trokuta** jednaka je polovici umnoška duljina njegovih kateta."
   ]
  },
  {
   "cell_type": "markdown",
   "metadata": {},
   "source": [
    "Formula:"
   ]
  },
  {
   "cell_type": "markdown",
   "metadata": {},
   "source": [
    "$$P=\\frac{a\\cdot b}{2}$$"
   ]
  },
  {
   "cell_type": "markdown",
   "metadata": {},
   "source": [
    "*Zadatak:* Napiši program koji će za učitane duljine stranica a i b izračunati i ispisati površinu pravokutnog trokuta."
   ]
  },
  {
   "cell_type": "code",
   "execution_count": 7,
   "metadata": {},
   "outputs": [
    {
     "name": "stdout",
     "output_type": "stream",
     "text": [
      "Duljina stranice a: 4\n",
      "Duljina stranice b: 5\n",
      "Površina je 10.0\n"
     ]
    }
   ],
   "source": [
    "a=int(input('Duljina stranice a: '))\n",
    "b=int(input('Duljina stranice b: '))\n",
    "print ('Površina je', (a*b)/2)"
   ]
  },
  {
   "cell_type": "markdown",
   "metadata": {},
   "source": [
    "*Zadatak:* Znamo da zbroj veličina unutarnjih kutova trokuta iznosi 180 stupnjeva. Zbroj veličina šiljastih kutova pravokutnog trokuta iznosi 90 stupnjeva, a svi kutovi jednakostraničnog trokuta imaju veličinu 60 stupnjeva. Napiši program koji će za učitane veličinee kutova trokuta ispisati je li trokut pravokutan ili ne."
   ]
  },
  {
   "cell_type": "code",
   "execution_count": 1,
   "metadata": {},
   "outputs": [
    {
     "name": "stdout",
     "output_type": "stream",
     "text": [
      "Upiši vrijednost za a:40\n",
      "Upiši vrijednost za b:50\n",
      "Trokut je pravokutan\n"
     ]
    }
   ],
   "source": [
    "a=int(input (\"Upiši vrijednost za a:\"))\n",
    "b=int(input (\"Upiši vrijednost za b:\"))\n",
    "if a+b==90: \n",
    "    print (\"Trokut je pravokutan\")\n",
    "else:\n",
    "    print (\"Trokut nije pravokutan\")"
   ]
  },
  {
   "cell_type": "markdown",
   "metadata": {},
   "source": [
    "\n",
    "**Izvori:**\n",
    "\n",
    "<http://www.eduvizija.hr/portal/lekcija/5-razred-matematika-trokut-i-vrste-trokuta>\n",
    "\n",
    "<http://www.eduvizija.hr/portal/?q=sadrzaj/matematika-za-6-razred-pregled-lekcija>\n",
    "\n",
    "<http://www.antonija-horvatek.from.hr/video/6-2-trokut.htm>\n",
    "\n",
    "<https://novi.tonimilun.com/matematika>"
   ]
  },
  {
   "cell_type": "code",
   "execution_count": null,
   "metadata": {},
   "outputs": [],
   "source": []
  }
 ],
 "metadata": {
  "kernelspec": {
   "display_name": "Python 3",
   "language": "python",
   "name": "python3"
  },
  "language_info": {
   "codemirror_mode": {
    "name": "ipython",
    "version": 3
   },
   "file_extension": ".py",
   "mimetype": "text/x-python",
   "name": "python",
   "nbconvert_exporter": "python",
   "pygments_lexer": "ipython3",
   "version": "3.5.4"
  }
 },
 "nbformat": 4,
 "nbformat_minor": 2
}
