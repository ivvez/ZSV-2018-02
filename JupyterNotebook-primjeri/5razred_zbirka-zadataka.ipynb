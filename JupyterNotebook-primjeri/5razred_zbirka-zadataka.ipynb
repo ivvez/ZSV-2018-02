{
 "cells": [
  {
   "cell_type": "markdown",
   "metadata": {},
   "source": [
    "# Zbirka zadataka: 5.razred"
   ]
  },
  {
   "cell_type": "markdown",
   "metadata": {},
   "source": [
    "By:IVezjak"
   ]
  },
  {
   "cell_type": "markdown",
   "metadata": {},
   "source": [
    "1. Napisi program koji ce ispisati tvoje ime u jednom retku, a prezime u drugom retku."
   ]
  },
  {
   "cell_type": "code",
   "execution_count": 1,
   "metadata": {},
   "outputs": [
    {
     "name": "stdout",
     "output_type": "stream",
     "text": [
      "Pero\n",
      "Peric\n"
     ]
    }
   ],
   "source": [
    "print ('Pero')\n",
    "print ('Peric')"
   ]
  },
  {
   "cell_type": "markdown",
   "metadata": {},
   "source": [
    "2.Napisi program koji ispisuje tvoja tri najdraza predmeta, jedan ispod drugoga."
   ]
  },
  {
   "cell_type": "code",
   "execution_count": 3,
   "metadata": {},
   "outputs": [
    {
     "name": "stdout",
     "output_type": "stream",
     "text": [
      "Informatika\n",
      "Matematika\n",
      "Fizika\n"
     ]
    }
   ],
   "source": [
    "print ('Informatika')\n",
    "print ('Matematika')\n",
    "print ('Fizika')"
   ]
  },
  {
   "cell_type": "markdown",
   "metadata": {},
   "source": [
    "3.Napisi program koji varijabli x pridruzuje tvoje ime i ispisuje poruku: Zovem se x."
   ]
  },
  {
   "cell_type": "code",
   "execution_count": 5,
   "metadata": {},
   "outputs": [
    {
     "name": "stdout",
     "output_type": "stream",
     "text": [
      "Zovem se Luka\n"
     ]
    }
   ],
   "source": [
    "x='Luka'\n",
    "print ('Zovem se' ,x)"
   ]
  },
  {
   "cell_type": "markdown",
   "metadata": {},
   "source": [
    "3a.Napisi program koji varijabli x pridruzuje tvoje ime i ispisuje poruku: Zovem se x. Zadatak napisi koristeci oznaku za formatiranje %s."
   ]
  },
  {
   "cell_type": "code",
   "execution_count": 2,
   "metadata": {},
   "outputs": [
    {
     "name": "stdout",
     "output_type": "stream",
     "text": [
      "Zovem se Luka\n"
     ]
    }
   ],
   "source": [
    "x='Luka'\n",
    "print ('Zovem se %s' % (x))"
   ]
  },
  {
   "cell_type": "markdown",
   "metadata": {},
   "source": [
    "4.Varijabli x pridruzi svoje ime, a varijabli g broj svojih godina te ispisi poruku: Zovem se x i imam g godina."
   ]
  },
  {
   "cell_type": "code",
   "execution_count": 6,
   "metadata": {},
   "outputs": [
    {
     "name": "stdout",
     "output_type": "stream",
     "text": [
      "Zovem se Luka i imam 11 godina\n"
     ]
    }
   ],
   "source": [
    "x='Luka'\n",
    "g=11\n",
    "print ('Zovem se' ,x, 'i imam' ,g, 'godina')"
   ]
  },
  {
   "cell_type": "markdown",
   "metadata": {},
   "source": [
    "4a.Varijabli x pridruzi svoje ime, a varijabli g broj svojih godina te ispisi poruku: Zovem se x i imam g godina.Zadatak napisi koristeci oznaku za formatiranje %s."
   ]
  },
  {
   "cell_type": "code",
   "execution_count": 4,
   "metadata": {},
   "outputs": [
    {
     "name": "stdout",
     "output_type": "stream",
     "text": [
      "Zovem se Luka i imam 11 godina.\n"
     ]
    }
   ],
   "source": [
    "x='Luka'\n",
    "g=11\n",
    "print ('Zovem se %s i imam %s godina.' % (x,g))"
   ]
  },
  {
   "cell_type": "markdown",
   "metadata": {},
   "source": [
    "5.Varijabli x pridruzi svoje ime, a varijabli g broj svojih godina te ispisi poruku: Zovem se x, a kada sam bio dvostruko mladji imao sam g godina."
   ]
  },
  {
   "cell_type": "code",
   "execution_count": 14,
   "metadata": {},
   "outputs": [
    {
     "name": "stdout",
     "output_type": "stream",
     "text": [
      "Zovem se Luka , a kada sam bio dvostruko mladji imao sam 5.5 godina\n"
     ]
    }
   ],
   "source": [
    "x='Luka'\n",
    "g=11\n",
    "print ('Zovem se',x,', a kada sam bio dvostruko mladji imao sam' ,g/2, 'godina')"
   ]
  },
  {
   "cell_type": "markdown",
   "metadata": {},
   "source": [
    "6.Varijabli x pridruzi svoje ime, a varijabli g broj svojih godina te ispisi poruku: Zovem se x, a kada budem dvostruko stariji imat cu g godina."
   ]
  },
  {
   "cell_type": "code",
   "execution_count": 16,
   "metadata": {},
   "outputs": [
    {
     "name": "stdout",
     "output_type": "stream",
     "text": [
      "Zovem se Luka , a kada budem dvostruko stariji imat cu 22 godine\n"
     ]
    }
   ],
   "source": [
    "x='Luka'\n",
    "g=11\n",
    "print ('Zovem se',x,', a kada budem dvostruko stariji imat cu' ,g*2, 'godine')"
   ]
  },
  {
   "cell_type": "markdown",
   "metadata": {},
   "source": [
    "7.Varijabli x pridruzi svoje ime i ispisi poruku: Moje ime ima ____ slova. Koristi naredbu len()."
   ]
  },
  {
   "cell_type": "code",
   "execution_count": 18,
   "metadata": {},
   "outputs": [
    {
     "name": "stdout",
     "output_type": "stream",
     "text": [
      "Moje ime ima 4 slova.\n"
     ]
    }
   ],
   "source": [
    "x='Luka'\n",
    "print ('Moje ime ima',len(x),'slova.')"
   ]
  },
  {
   "cell_type": "markdown",
   "metadata": {},
   "source": [
    "8.Varijabli x pridruzi svoje ime. Ispisi svoje ime velikim slovima koristeci naredbu upper()."
   ]
  },
  {
   "cell_type": "code",
   "execution_count": 19,
   "metadata": {},
   "outputs": [
    {
     "name": "stdout",
     "output_type": "stream",
     "text": [
      "LUKA\n"
     ]
    }
   ],
   "source": [
    "x='Luka'\n",
    "print (x.upper())"
   ]
  },
  {
   "cell_type": "markdown",
   "metadata": {},
   "source": [
    "9.Varijabli a pridruzi broj 2, a varijabli b broj 7. Ispisi umnozak a i b."
   ]
  },
  {
   "cell_type": "code",
   "execution_count": 20,
   "metadata": {},
   "outputs": [
    {
     "name": "stdout",
     "output_type": "stream",
     "text": [
      "14\n"
     ]
    }
   ],
   "source": [
    "a=2\n",
    "b=7\n",
    "print (a*b)"
   ]
  },
  {
   "cell_type": "markdown",
   "metadata": {},
   "source": [
    "10.Varijablama a,b i c pridruzi tri broja po zelji i izracunaj i ispisi umnozak ta tri broja."
   ]
  },
  {
   "cell_type": "code",
   "execution_count": 21,
   "metadata": {},
   "outputs": [
    {
     "name": "stdout",
     "output_type": "stream",
     "text": [
      "120\n"
     ]
    }
   ],
   "source": [
    "a=5\n",
    "b=8\n",
    "c=3\n",
    "print (a*b*c)"
   ]
  },
  {
   "cell_type": "markdown",
   "metadata": {},
   "source": [
    "11.Varijabli n pridruzi jedan paran broj te ispisi sljedeci po redu paran broj."
   ]
  },
  {
   "cell_type": "code",
   "execution_count": 22,
   "metadata": {},
   "outputs": [
    {
     "name": "stdout",
     "output_type": "stream",
     "text": [
      "4\n"
     ]
    }
   ],
   "source": [
    "n=2\n",
    "print (n+2)"
   ]
  },
  {
   "cell_type": "markdown",
   "metadata": {},
   "source": [
    "12.Varijabli n pridruzi broj 8 te ispisi trostruko veci broj od njega."
   ]
  },
  {
   "cell_type": "code",
   "execution_count": 23,
   "metadata": {},
   "outputs": [
    {
     "name": "stdout",
     "output_type": "stream",
     "text": [
      "24\n"
     ]
    }
   ],
   "source": [
    "n=8\n",
    "print (n*3)"
   ]
  },
  {
   "cell_type": "markdown",
   "metadata": {},
   "source": [
    "13.*(Infokup)* Marko je dobio kutiju od 20 cokoladica za rodjendan. Dvije je dao sestri, jednu mami, a jednu tati. Ostale je sam pojeo. Napisi program koji ce izracunati i ispisati koliko cokoladica je Marko sam pojeo."
   ]
  },
  {
   "cell_type": "code",
   "execution_count": 24,
   "metadata": {},
   "outputs": [
    {
     "name": "stdout",
     "output_type": "stream",
     "text": [
      "16\n"
     ]
    }
   ],
   "source": [
    "b=20\n",
    "print (b-2-1-1)"
   ]
  },
  {
   "cell_type": "markdown",
   "metadata": {},
   "source": [
    "14.*(Infokup)* Tina je sudjelovala na glazbenom natjecanju 'Zvjezdice'. U ziriju je bilo cetiri clana (a,b,c,d) i svaki od njih joj je dao ocjenu od 1-10. Varijablama a,b,c i d pridruzi ocjenu za svakog clana zirija te izracunaj i ispisi koliko je Tina bodova ukupno osvojila."
   ]
  },
  {
   "cell_type": "code",
   "execution_count": 25,
   "metadata": {},
   "outputs": [
    {
     "name": "stdout",
     "output_type": "stream",
     "text": [
      "36\n"
     ]
    }
   ],
   "source": [
    "a=10\n",
    "b=10\n",
    "c=9\n",
    "d=7\n",
    "print (a+b+c+d)"
   ]
  },
  {
   "cell_type": "markdown",
   "metadata": {},
   "source": [
    "15.Marko je za rodjendan dobio100 kuna od bake i djeda. Potrosio je 30 kuna na kekse i 23 kune na cokoladu. Napisi program koji ce izracunati koliko je novaca Marku ostalo. "
   ]
  },
  {
   "cell_type": "code",
   "execution_count": 26,
   "metadata": {},
   "outputs": [
    {
     "name": "stdout",
     "output_type": "stream",
     "text": [
      "47\n"
     ]
    }
   ],
   "source": [
    "a=100\n",
    "b=30\n",
    "c=23\n",
    "print (a-b-c)"
   ]
  },
  {
   "cell_type": "markdown",
   "metadata": {},
   "source": [
    "16.Ivica nesto razmislja. Ako je njegov omiljeni nogometas 2016.g. proslavio 28 rodjendan, koje godine je on rodjen? Napisi program koji ce to izracunati i ispisati."
   ]
  },
  {
   "cell_type": "code",
   "execution_count": 27,
   "metadata": {},
   "outputs": [
    {
     "name": "stdout",
     "output_type": "stream",
     "text": [
      "1988\n"
     ]
    }
   ],
   "source": [
    "a=2016\n",
    "b=28\n",
    "print (a-b)"
   ]
  },
  {
   "cell_type": "markdown",
   "metadata": {},
   "source": [
    "17.Napisi program koji unosi (naredba input) tvoje ime i ispisuje pozdravnu poruku: Bok, x!"
   ]
  },
  {
   "cell_type": "code",
   "execution_count": 28,
   "metadata": {},
   "outputs": [
    {
     "name": "stdout",
     "output_type": "stream",
     "text": [
      "Kako se zoves?Pero\n",
      "Bok Pero\n"
     ]
    }
   ],
   "source": [
    "x=input('Kako se zoves?')\n",
    "print ('Bok',x)"
   ]
  },
  {
   "cell_type": "markdown",
   "metadata": {},
   "source": [
    "18.Napisi program koji unosi (naredba input) tri broja a,b,c i ispisuje njihov umnozak."
   ]
  },
  {
   "cell_type": "code",
   "execution_count": 30,
   "metadata": {},
   "outputs": [
    {
     "name": "stdout",
     "output_type": "stream",
     "text": [
      "Prvi broj:23\n",
      "Drugi broj:2\n",
      "Treci broj:4\n",
      "184\n"
     ]
    }
   ],
   "source": [
    "a=int(input('Prvi broj:'))\n",
    "b=int(input('Drugi broj:'))\n",
    "c=int(input('Treci broj:'))\n",
    "print (a*b*c)"
   ]
  },
  {
   "cell_type": "markdown",
   "metadata": {},
   "source": [
    "19.Napisi program koji unosi (naredba input)  dva broja te ispisuje njihov zbroj, razliku, umnozak i kolicnik, jedno ispod drugoga."
   ]
  },
  {
   "cell_type": "code",
   "execution_count": 31,
   "metadata": {},
   "outputs": [
    {
     "name": "stdout",
     "output_type": "stream",
     "text": [
      "Prvi broj:34\n",
      "Drugi broj:6\n",
      "40\n",
      "28\n",
      "204\n",
      "5.666666666666667\n"
     ]
    }
   ],
   "source": [
    "a=int(input('Prvi broj:'))\n",
    "b=int(input('Drugi broj:'))\n",
    "print (a+b)\n",
    "print (a-b)\n",
    "print (a*b)\n",
    "print (a/b)"
   ]
  },
  {
   "cell_type": "markdown",
   "metadata": {},
   "source": [
    "20.Napisi program koji unosi (naredba input) jedan parni broj x i ispisuje sljedeci parni broj."
   ]
  },
  {
   "cell_type": "code",
   "execution_count": 32,
   "metadata": {},
   "outputs": [
    {
     "name": "stdout",
     "output_type": "stream",
     "text": [
      "Upisi broj:66\n",
      "68\n"
     ]
    }
   ],
   "source": [
    "a=int(input('Upisi broj:'))\n",
    "print (a+2)"
   ]
  },
  {
   "cell_type": "markdown",
   "metadata": {},
   "source": [
    "21.Ana i Marija bile su skupa na moru i na plazi su skupljale skoljke. Ana je skupila n skoljaka, a Marija tri puta vise od Ane. Napisi program koji ce na temelju ulaznih podataka izracunati i ispisati koliko skoljaka je skupila Marija.\n"
   ]
  },
  {
   "cell_type": "code",
   "execution_count": 35,
   "metadata": {},
   "outputs": [
    {
     "name": "stdout",
     "output_type": "stream",
     "text": [
      "Koliko školjaka je skupila Ana?12\n",
      "Marija je kupila 36 školjaka.\n"
     ]
    }
   ],
   "source": [
    "n=int(input('Koliko školjaka je skupila Ana?'))\n",
    "print ('Marija je kupila',n*3, 'školjaka.')"
   ]
  },
  {
   "cell_type": "markdown",
   "metadata": {},
   "source": [
    "22.Fran i Jan idu na sladoled. Cetiri kuglice sladoleda Fran je platio n kuna. \n",
    "Napisi program koji ce na temelju ulaznih podataka izracunati i ispisati koliko kuna kosta jedna kuglica sladoleda."
   ]
  },
  {
   "cell_type": "code",
   "execution_count": 38,
   "metadata": {},
   "outputs": [
    {
     "name": "stdout",
     "output_type": "stream",
     "text": [
      "Koliko kuna je Fran platio 4 kuglice sladoleda?16\n",
      "Jedna kuglica sladoleda košta 4.0 kune\n"
     ]
    }
   ],
   "source": [
    "n=int(input('Koliko kuna je Fran platio 4 kuglice sladoleda?'))\n",
    "print ('Jedna kuglica sladoleda košta' ,n/4, 'kune')"
   ]
  },
  {
   "cell_type": "markdown",
   "metadata": {},
   "source": [
    "23.Klara je pronasla jednu staru, neobicnu knjigu. Svaki put kada ju otvori u knjizi nedostaje nekoliko stranica. Klara vidi npr. na lijevoj strani broj 14, a na desnoj broj 19. Ostale stranice nedostaju. Ako je a broj stranice na lijevoj strani, a b broj stranice na desnoj strani, na temelju ulaznih podataka napisi program koji će ispisati i izracunati koliko stranica nedostaje u knjizi."
   ]
  },
  {
   "cell_type": "code",
   "execution_count": 40,
   "metadata": {},
   "outputs": [
    {
     "name": "stdout",
     "output_type": "stream",
     "text": [
      "Koliko stranica ima na lijevoj strani? 14\n",
      "Koliko stranica ima na desnoj strani? 19\n",
      "5\n"
     ]
    }
   ],
   "source": [
    "a=int(input('Koliko stranica ima na lijevoj strani? '))\n",
    "b=int(input('Koliko stranica ima na desnoj strani? '))\n",
    "print (b-a)"
   ]
  },
  {
   "cell_type": "markdown",
   "metadata": {},
   "source": [
    "24.*(Infokup)* Marko je za vikend otisao s roditeljima na Kamnisko sedlo u Sloveniju. Temperatura u Ljubljani je t1, a na Sedlu t2. Svima je jasno da je na planini uvijek hladnije, no Marka zanima za koliko stupnjeva je temperatura na Sedlu niza od one u Ljubljani. Na temelju ulaznih podataka napisi program koji ce to izracunati.\n"
   ]
  },
  {
   "cell_type": "code",
   "execution_count": 42,
   "metadata": {},
   "outputs": [
    {
     "name": "stdout",
     "output_type": "stream",
     "text": [
      "Ljubljana: 20\n",
      "Kamniško Sedlo: 14\n",
      "6\n"
     ]
    }
   ],
   "source": [
    "t1=int(input('Ljubljana: '))\n",
    "t2=int(input('Kamniško Sedlo: '))\n",
    "print (t1-t2)"
   ]
  },
  {
   "cell_type": "markdown",
   "metadata": {},
   "source": [
    "25.*(Infokup)* Ivica je Marici poklonio cokoladu koja se sastoji od kockica rasporedjenih u r redaka i s stupaca.\n",
    "Ako znamo broj redaka r i broj stupaca s u cokoladi, napisi program koji ce izracunati i ispisati koliko cokolada ima ukupno kockica."
   ]
  },
  {
   "cell_type": "code",
   "execution_count": 43,
   "metadata": {},
   "outputs": [
    {
     "name": "stdout",
     "output_type": "stream",
     "text": [
      "Broj redaka čokolade:4\n",
      "Broj stupaca čokolade:5\n",
      "20\n"
     ]
    }
   ],
   "source": [
    "r=int(input('Broj redaka čokolade:'))\n",
    "s=int(input('Broj stupaca čokolade:'))\n",
    "print (r*s)"
   ]
  },
  {
   "cell_type": "markdown",
   "metadata": {},
   "source": [
    "26.Varijabli a pridruzi vrijednost 10 i izracunaj i ispisi ostatak cjelobrojnog dijeljenja s 2."
   ]
  },
  {
   "cell_type": "code",
   "execution_count": 45,
   "metadata": {},
   "outputs": [
    {
     "name": "stdout",
     "output_type": "stream",
     "text": [
      "0\n"
     ]
    }
   ],
   "source": [
    "a=10\n",
    "print (a%2)"
   ]
  },
  {
   "cell_type": "markdown",
   "metadata": {},
   "source": [
    "27.Vlatka je dobila od bake x kuna i odlucila kupiti cokoladice. Svaka cokoladica kosta y kuna. Napisi program koji ce ucitati koliko je kuna Vlatka dobila i cijenu svake cokoladice te ispisati u dva retka koliko Vlatka moze kupiti cokoladica za svoj novac \n",
    "i koliko joj je kuna ostalo kad kupi cokoladice."
   ]
  },
  {
   "cell_type": "code",
   "execution_count": 51,
   "metadata": {},
   "outputs": [
    {
     "name": "stdout",
     "output_type": "stream",
     "text": [
      "kn: 100\n",
      "cijena cok: 5\n",
      "20.0\n",
      "0\n"
     ]
    }
   ],
   "source": [
    "x=int(input('kn: '))\n",
    "y=int(input('cijena cok: '))\n",
    "print (x/y)\n",
    "print (x%y)"
   ]
  },
  {
   "cell_type": "markdown",
   "metadata": {},
   "source": [
    "28.Napisi program koji unosi neki dvoznamenkasti broj x i ispisuje znamenku jedinicu i deseticu, jedno ispod drugoga."
   ]
  },
  {
   "cell_type": "code",
   "execution_count": 54,
   "metadata": {},
   "outputs": [
    {
     "name": "stdout",
     "output_type": "stream",
     "text": [
      "Upiši broj: 34\n",
      "Jedinica je 4\n",
      "Desetica je 3\n"
     ]
    }
   ],
   "source": [
    "x=int(input('Upiši broj: '))\n",
    "j=x%10\n",
    "d=x//10\n",
    "print ('Jedinica je',j)\n",
    "print ('Desetica je',d)"
   ]
  },
  {
   "cell_type": "markdown",
   "metadata": {},
   "source": [
    "29.Napisi program koji unosi neki dvoznamenkasti broj x te ispisuje zbroj njegovih znamenki."
   ]
  },
  {
   "cell_type": "code",
   "execution_count": 56,
   "metadata": {},
   "outputs": [
    {
     "name": "stdout",
     "output_type": "stream",
     "text": [
      "upisi broj: 56\n",
      "zbroj znamenki je 11\n"
     ]
    }
   ],
   "source": [
    "x=int(input('upisi broj: '))\n",
    "j=x%10\n",
    "d=x//10\n",
    "print ('zbroj znamenki je', j+d)"
   ]
  },
  {
   "cell_type": "markdown",
   "metadata": {},
   "source": [
    "30.Napisi program koji unosi neki troznamenkasti broj x te ispisuje jedinicu, deseticu i stoticu."
   ]
  },
  {
   "cell_type": "code",
   "execution_count": 61,
   "metadata": {},
   "outputs": [
    {
     "name": "stdout",
     "output_type": "stream",
     "text": [
      "Upiši broj: 567\n",
      "Stotica je: 5\n",
      "Desetica je: 6\n",
      "Jedinica je: 7\n"
     ]
    }
   ],
   "source": [
    "x=int(input('Upiši broj: '))\n",
    "j=x%100%10\n",
    "s=x//100\n",
    "d=(x%100)//10\n",
    "print ('Stotica je:',s)\n",
    "print ('Desetica je:',d)\n",
    "print ('Jedinica je:',j)"
   ]
  },
  {
   "cell_type": "markdown",
   "metadata": {},
   "source": [
    "31.Napisi program koji ucitava troznamenkasti broj x te ispisuje novi broj u kojemu su znamenke jedinica i stotica zamijenile mjesta.\n",
    "Npr. ako imamo broj 239 i zamijenimo mjesto jedinice i stotice dobit cemo broj: 932.\n"
   ]
  },
  {
   "cell_type": "code",
   "execution_count": 63,
   "metadata": {},
   "outputs": [
    {
     "name": "stdout",
     "output_type": "stream",
     "text": [
      "upisi troznamenkasti broj: 692\n",
      "Novi broj je: 296\n"
     ]
    }
   ],
   "source": [
    "x=int(input('upisi troznamenkasti broj: '))\n",
    "s=x//100\n",
    "j=x%10\n",
    "d=(x%100)//10\n",
    "\n",
    "print ('Novi broj je:',j*100+d*10+s*1)"
   ]
  },
  {
   "cell_type": "markdown",
   "metadata": {},
   "source": [
    "32.Setajući jednim trgovackim centrom u blagdansko vrijeme, Hana je uocila da je njezinim omiljenim cokoladicama snizena cijena. Zato je odlucila kupiti sto vise cokoladica moze za novac koji trenutno ima kod sebe. Odlucila je da ce sav novac sto joj ostane baciti u kutiju na blagajni koja se skuplja za izgradnju jedne skole u Africi.\n",
    "\n",
    "Napisi program koji će ucitati ukupnu kolicinu novca koju Hana ima kod sebe i cijenu jedne cokoladice pa ispisati koliko je novca zavrsilo u kutiji za izgradnju nove skole u Africi."
   ]
  },
  {
   "cell_type": "code",
   "execution_count": 66,
   "metadata": {},
   "outputs": [
    {
     "name": "stdout",
     "output_type": "stream",
     "text": [
      "Koliko je kuna Hana imala? 50\n",
      "Koliko kosta jedna cokoladica? 3\n",
      "Za skolu u Africi Hani je ostalo 2 kn\n"
     ]
    }
   ],
   "source": [
    "a=int(input('Koliko je kuna Hana imala? '))\n",
    "b=int(input('Koliko kosta jedna cokoladica? '))\n",
    "print ('Za skolu u Africi Hani je ostalo',a%b,'kn')"
   ]
  },
  {
   "cell_type": "markdown",
   "metadata": {},
   "source": [
    "33.*(Infokup)* Loto 7/39 najpopularnija je igra na srecu koju organizira i provodi Hrvatska lutrija. U toj igri slucajnim se odabirom izvlaci 7 kuglica tj. brojeva. Pero je smislio novu igru tj. pogadjanje Joker broja. \n",
    "\n",
    "Joker broj nastaje tako da se stvori od znamenki jedinica prvih pet izvucenih brojeva.Npr. ako su izvuceni brojevi 23,12,4,10,15,19,33 tada ce Joker broj biti 32405. Napisi program koji za ucitanih 7 brojeva ispisuje joker broj.\n"
   ]
  },
  {
   "cell_type": "code",
   "execution_count": 68,
   "metadata": {},
   "outputs": [
    {
     "name": "stdout",
     "output_type": "stream",
     "text": [
      "Upisi prvi broj 45\n",
      "Upisi drugi broj 345\n",
      "Upisi treci broj 23\n",
      "Upisi cetvrti broj 45\n",
      "Upisi peti broj 8\n",
      "Upisi sesti broj 2\n",
      "Upisi sedmi broj 5678\n",
      "Joker broj je: 55358\n"
     ]
    }
   ],
   "source": [
    "a=int(input('Upisi prvi broj '))\n",
    "b=int(input('Upisi drugi broj '))\n",
    "c=int(input('Upisi treci broj '))\n",
    "d=int(input('Upisi cetvrti broj '))\n",
    "e=int(input('Upisi peti broj '))\n",
    "f=int(input('Upisi sesti broj '))\n",
    "g=int(input('Upisi sedmi broj '))\n",
    "h=a%10\n",
    "i=b%10\n",
    "j=c%10\n",
    "k=d%10\n",
    "l=e%10\n",
    "print ('Joker broj je:',h*10000+i*1000+j*100+k*10+l)"
   ]
  },
  {
   "cell_type": "markdown",
   "metadata": {},
   "source": [
    "34.Napisi program koji unosi sate, minute i sekunde te ispisuje ukupan broj sekundi."
   ]
  },
  {
   "cell_type": "code",
   "execution_count": 2,
   "metadata": {},
   "outputs": [
    {
     "name": "stdout",
     "output_type": "stream",
     "text": [
      "Sati: 2\n",
      "Minuta: 15\n",
      "Sekundi: 34\n",
      "1054 s\n"
     ]
    }
   ],
   "source": [
    "sa=int(input('Sati: '))\n",
    "m=int(input('Minuta: '))\n",
    "se=int(input('Sekundi: '))\n",
    "print (sa*60+m*60+se,'s')"
   ]
  },
  {
   "cell_type": "markdown",
   "metadata": {},
   "source": [
    "35.Napisi program koji pretvara metre u centimetre."
   ]
  },
  {
   "cell_type": "code",
   "execution_count": 5,
   "metadata": {},
   "outputs": [
    {
     "name": "stdout",
     "output_type": "stream",
     "text": [
      "Metri: 2\n",
      "200 cm\n"
     ]
    }
   ],
   "source": [
    "m=int(input('Metri: '))\n",
    "cm = m*100\n",
    "print (cm,'cm')"
   ]
  }
 ],
 "metadata": {
  "kernelspec": {
   "display_name": "Python 3",
   "language": "python",
   "name": "python3"
  },
  "language_info": {
   "codemirror_mode": {
    "name": "ipython",
    "version": 3
   },
   "file_extension": ".py",
   "mimetype": "text/x-python",
   "name": "python",
   "nbconvert_exporter": "python",
   "pygments_lexer": "ipython3",
   "version": "3.5.0"
  }
 },
 "nbformat": 4,
 "nbformat_minor": 2
}
