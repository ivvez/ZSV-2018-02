{
 "cells": [
  {
   "cell_type": "markdown",
   "metadata": {
    "collapsed": true
   },
   "source": [
    "# Anketa - školski predmeti"
   ]
  },
  {
   "cell_type": "markdown",
   "metadata": {},
   "source": [
    "Autor: M.P., 8.b"
   ]
  },
  {
   "cell_type": "markdown",
   "metadata": {},
   "source": [
    "**Opis projekta:**\n",
    "\n",
    "1. Anketa je napravljena pomoću programa Google Forms, a rezultati izvezeni kao .xls tablica.\n",
    "\n",
    "2. Tablice su učitane u Python koristeći `modul Pandas.`\n",
    "\n",
    "3. Grafikoni su izrađeni u Pythonu `(modul matplotlib)`."
   ]
  },
  {
   "cell_type": "markdown",
   "metadata": {},
   "source": [
    "### *Grafikon 1: Redovito pišem domaće zadaće*"
   ]
  },
  {
   "cell_type": "code",
   "execution_count": 10,
   "metadata": {},
   "outputs": [
    {
     "data": {
      "image/png": "[encoded data removed]",
      "text/plain": [
       "<matplotlib.figure.Figure at 0x7f27bb5f1ba8>"
      ]
     },
     "metadata": {},
     "output_type": "display_data"
    }
   ],
   "source": [
    "import pandas as pd\n",
    "import numpy as np\n",
    "import matplotlib.pyplot as plt\n",
    "%matplotlib inline\n",
    "\n",
    "excel_doc = 'anketa-predmeti.xlsx'\n",
    "anketa = pd.read_excel(excel_doc)\n",
    "prvi=0\n",
    "drugi=0\n",
    "treci=0\n",
    "cetvrti=0\n",
    "peti=0\n",
    "\n",
    "for i in anketa.index:\n",
    "    if anketa['Redovito pišem domaće zadaće.'][i]==1:\n",
    "        prvi+=1\n",
    "    elif anketa['Redovito pišem domaće zadaće.'][i]==2:\n",
    "        drugi+=1\n",
    "    elif anketa['Redovito pišem domaće zadaće.'][i]==3:\n",
    "        treci+=1\n",
    "    elif anketa['Redovito pišem domaće zadaće.'][i]==4:\n",
    "        cetvrti+=1\n",
    "    elif anketa['Redovito pišem domaće zadaće.'][i]==5:\n",
    "        peti+=1\n",
    "\n",
    "#matplotlib tortni grafikon\n",
    "\n",
    "nazivi = 'Nikada', 'Rijetko', 'Ponekad', 'Uglavnom', 'Uvijek'\n",
    "velicine = [prvi,drugi,treci,cetvrti,peti]\n",
    "\n",
    "fig1, ax1 = plt.subplots()\n",
    "ax1.pie(velicine, labels=nazivi, autopct='%1.1f%%',shadow=True, startangle=90)\n",
    "ax1.axis('equal')\n",
    "plt.show()\n"
   ]
  },
  {
   "cell_type": "markdown",
   "metadata": {},
   "source": [
    "### *Grafikon 2: Znanje iz kojeg predmeta misliš da će ti najviše koristiti u budućnosti?*"
   ]
  },
  {
   "cell_type": "code",
   "execution_count": 5,
   "metadata": {},
   "outputs": [
    {
     "data": {
      "image/png": "[encoded data removed]",
      "text/plain": [
       "<matplotlib.figure.Figure at 0x7f27bb1eb780>"
      ]
     },
     "metadata": {},
     "output_type": "display_data"
    }
   ],
   "source": [
    "import pandas as pd\n",
    "import numpy as np\n",
    "import matplotlib.pyplot as plt\n",
    "%matplotlib inline\n",
    "\n",
    "excel_doc = 'anketa-predmeti.xlsx'\n",
    "anketa = pd.read_excel(excel_doc)\n",
    "\n",
    "mat = 0\n",
    "inf = 0\n",
    "hrv = 0\n",
    "eng = 0\n",
    "bio=0\n",
    "kem=0\n",
    "pri=0\n",
    "pov=0\n",
    "geo=0\n",
    "teh=0\n",
    "tzk=0\n",
    "vj=0\n",
    "njem=0\n",
    "gla=0\n",
    "lik=0\n",
    "fiz=0\n",
    "\n",
    "\n",
    "for i in anketa.index:\n",
    "    if anketa['Znanje iz kojeg predmeta misliš da će ti najviše koristiti u budućnosti?'][i].startswith('matem'):\n",
    "        mat+=1\n",
    "    elif anketa['Znanje iz kojeg predmeta misliš da će ti najviše koristiti u budućnosti?'][i].startswith('inf'):\n",
    "        inf+=1\n",
    "    elif anketa['Znanje iz kojeg predmeta misliš da će ti najviše koristiti u budućnosti?'][i].startswith('hrv'):\n",
    "        hrv+=1\n",
    "    elif anketa['Znanje iz kojeg predmeta misliš da će ti najviše koristiti u budućnosti?'][i].startswith('eng'):\n",
    "        eng+=1\n",
    "    elif anketa['Znanje iz kojeg predmeta misliš da će ti najviše koristiti u budućnosti?'][i].startswith('bio'):\n",
    "        bio+=1\n",
    "    elif anketa['Znanje iz kojeg predmeta misliš da će ti najviše koristiti u budućnosti?'][i].startswith('kem'):\n",
    "        kem+=1\n",
    "    elif anketa['Znanje iz kojeg predmeta misliš da će ti najviše koristiti u budućnosti?'][i].startswith('pri'):\n",
    "        pri+=1\n",
    "    elif anketa['Znanje iz kojeg predmeta misliš da će ti najviše koristiti u budućnosti?'][i].startswith('pov'):\n",
    "        pov+=1\n",
    "    elif anketa['Znanje iz kojeg predmeta misliš da će ti najviše koristiti u budućnosti?'][i].startswith('geo') or anketa['Znanje iz kojeg predmeta misliš da će ti najviše koristiti u budućnosti?'][i].startswith ('zem'):\n",
    "        geo+=1\n",
    "    elif anketa['Znanje iz kojeg predmeta misliš da će ti najviše koristiti u budućnosti?'][i].startswith('teh'):\n",
    "        teh+=1\n",
    "    elif anketa['Znanje iz kojeg predmeta misliš da će ti najviše koristiti u budućnosti?'][i].startswith('tje'):\n",
    "        tzk+=1\n",
    "    elif anketa['Znanje iz kojeg predmeta misliš da će ti najviše koristiti u budućnosti?'][i].startswith('vj'):\n",
    "        vj+=1\n",
    "    elif anketa['Znanje iz kojeg predmeta misliš da će ti najviše koristiti u budućnosti?'][i].startswith('njem'):\n",
    "        njem+=1\n",
    "    elif anketa['Znanje iz kojeg predmeta misliš da će ti najviše koristiti u budućnosti?'][i].startswith('gla'):\n",
    "        gla+=1\n",
    "    elif anketa['Znanje iz kojeg predmeta misliš da će ti najviše koristiti u budućnosti?'][i].startswith('lik'):\n",
    "        lik+=1\n",
    "    elif anketa['Znanje iz kojeg predmeta misliš da će ti najviše koristiti u budućnosti?'][i].startswith('fiz'):\n",
    "        fiz+=1\n",
    "            \n",
    "predmeti=('Mat','Inf','Hrv','Eng','Bio','Kem','Pri','Pov','Geo','Teh','Tzk','Vj','Njem','Glk','Lik','Fiz')\n",
    "y_pos = np.arange(len(predmeti))\n",
    "rez = [mat,inf,hrv,eng,bio,kem,pri,pov,geo,teh,tzk,vj,njem,gla,lik,fiz]\n",
    "    \n",
    "plt.figure(figsize=(10,6))\n",
    "plt.bar(y_pos, rez, align='center', alpha=0.7, color='green')\n",
    "plt.xticks(y_pos, predmeti)\n",
    "plt.ylabel('Broj učenika')\n",
    "plt.title('Najkorisniji predmeti')\n",
    " \n",
    "plt.show()\n"
   ]
  },
  {
   "cell_type": "markdown",
   "metadata": {},
   "source": [
    "\n",
    "*Prikaz prvih 10 zapisa u tablici:*"
   ]
  },
  {
   "cell_type": "code",
   "execution_count": 11,
   "metadata": {},
   "outputs": [
    {
     "data": {
      "text/html": [
       "<div>\n",
       "<style>\n",
       "    .dataframe thead tr:only-child th {\n",
       "        text-align: right;\n",
       "    }\n",
       "\n",
       "    .dataframe thead th {\n",
       "        text-align: left;\n",
       "    }\n",
       "\n",
       "    .dataframe tbody tr th {\n",
       "        vertical-align: top;\n",
       "    }\n",
       "</style>\n",
       "<table border=\"1\" class=\"dataframe\">\n",
       "  <thead>\n",
       "    <tr style=\"text-align: right;\">\n",
       "      <th></th>\n",
       "      <th>Redovito pišem domaće zadaće.</th>\n",
       "      <th>Koji predmet ti je najzanimljiviji?</th>\n",
       "      <th>Koji predmet ti je najlakši?</th>\n",
       "      <th>Znanje iz kojeg predmeta misliš da će ti najviše koristiti u budućnosti?</th>\n",
       "    </tr>\n",
       "  </thead>\n",
       "  <tbody>\n",
       "    <tr>\n",
       "      <th>0</th>\n",
       "      <td>1</td>\n",
       "      <td>Engleski</td>\n",
       "      <td>Engleski</td>\n",
       "      <td>Engleski</td>\n",
       "    </tr>\n",
       "    <tr>\n",
       "      <th>1</th>\n",
       "      <td>3</td>\n",
       "      <td>informatika</td>\n",
       "      <td>Engleski</td>\n",
       "      <td>Matematika</td>\n",
       "    </tr>\n",
       "    <tr>\n",
       "      <th>2</th>\n",
       "      <td>1</td>\n",
       "      <td>engleski</td>\n",
       "      <td>biologija</td>\n",
       "      <td>engleski</td>\n",
       "    </tr>\n",
       "    <tr>\n",
       "      <th>3</th>\n",
       "      <td>5</td>\n",
       "      <td>biologija</td>\n",
       "      <td>matematika</td>\n",
       "      <td>matmatika</td>\n",
       "    </tr>\n",
       "    <tr>\n",
       "      <th>4</th>\n",
       "      <td>3</td>\n",
       "      <td>ENGLESKI</td>\n",
       "      <td>MATEMATIKA</td>\n",
       "      <td>INFORMATIKA</td>\n",
       "    </tr>\n",
       "    <tr>\n",
       "      <th>5</th>\n",
       "      <td>5</td>\n",
       "      <td>informatika</td>\n",
       "      <td>svi</td>\n",
       "      <td>matematika</td>\n",
       "    </tr>\n",
       "    <tr>\n",
       "      <th>6</th>\n",
       "      <td>5</td>\n",
       "      <td>Njemački.</td>\n",
       "      <td>Matematika.</td>\n",
       "      <td>informatika</td>\n",
       "    </tr>\n",
       "    <tr>\n",
       "      <th>7</th>\n",
       "      <td>5</td>\n",
       "      <td>Engleski.</td>\n",
       "      <td>Engleski.</td>\n",
       "      <td>Engleski i matematika.</td>\n",
       "    </tr>\n",
       "    <tr>\n",
       "      <th>8</th>\n",
       "      <td>1</td>\n",
       "      <td>Povijest</td>\n",
       "      <td>glazbeni</td>\n",
       "      <td>Geografija</td>\n",
       "    </tr>\n",
       "    <tr>\n",
       "      <th>9</th>\n",
       "      <td>3</td>\n",
       "      <td>Engleski</td>\n",
       "      <td>Engleski</td>\n",
       "      <td>Fizika</td>\n",
       "    </tr>\n",
       "  </tbody>\n",
       "</table>\n",
       "</div>"
      ],
      "text/plain": [
       "   Redovito pišem domaće zadaće. Koji predmet ti je najzanimljiviji?  \\\n",
       "0                              1                            Engleski   \n",
       "1                              3                         informatika   \n",
       "2                              1                            engleski   \n",
       "3                              5                           biologija   \n",
       "4                              3                            ENGLESKI   \n",
       "5                              5                         informatika   \n",
       "6                              5                           Njemački.   \n",
       "7                              5                           Engleski.   \n",
       "8                              1                            Povijest   \n",
       "9                              3                            Engleski   \n",
       "\n",
       "  Koji predmet ti je najlakši?  \\\n",
       "0                     Engleski   \n",
       "1                     Engleski   \n",
       "2                    biologija   \n",
       "3                   matematika   \n",
       "4                   MATEMATIKA   \n",
       "5                          svi   \n",
       "6                  Matematika.   \n",
       "7                    Engleski.   \n",
       "8                     glazbeni   \n",
       "9                     Engleski   \n",
       "\n",
       "  Znanje iz kojeg predmeta misliš da će ti najviše koristiti u budućnosti?  \n",
       "0                                           Engleski                        \n",
       "1                                         Matematika                        \n",
       "2                                           engleski                        \n",
       "3                                          matmatika                        \n",
       "4                                        INFORMATIKA                        \n",
       "5                                         matematika                        \n",
       "6                                        informatika                        \n",
       "7                             Engleski i matematika.                        \n",
       "8                                         Geografija                        \n",
       "9                                             Fizika                        "
      ]
     },
     "execution_count": 11,
     "metadata": {},
     "output_type": "execute_result"
    }
   ],
   "source": [
    "anketa.head(10)"
   ]
  }
 ],
 "metadata": {
  "kernelspec": {
   "display_name": "Python 3.6",
   "language": "python",
   "name": "python36"
  },
  "language_info": {
   "codemirror_mode": {
    "name": "ipython",
    "version": 3
   },
   "file_extension": ".py",
   "mimetype": "text/x-python",
   "name": "python",
   "nbconvert_exporter": "python",
   "pygments_lexer": "ipython3",
   "version": "3.6.3"
  }
 },
 "nbformat": 4,
 "nbformat_minor": 2
}
