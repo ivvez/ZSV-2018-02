{
 "cells": [
  {
   "cell_type": "markdown",
   "metadata": {
    "collapsed": true
   },
   "source": [
    "## Krvni tlak\n",
    "\n",
    "Projekt izradila: A.M., 8.a razred"
   ]
  },
  {
   "cell_type": "markdown",
   "metadata": {},
   "source": [
    "#### Pitanja iz biologije:\n",
    "\n",
    "**1. Što je krvni tlak?**\n",
    "Pritisak krvi na stjenke krvnih žila.\n",
    "\n",
    "**2. Kako se naziva poremećaj niskog krvnog tlaka?**\n",
    "Hipotenzija.\n",
    "\n",
    "**3. Što je dijastolički tlak?**\n",
    "Minimalni tlak na stjenke arterije nakon prolaska sistoličkog tlaka.\n",
    "\n",
    "**4. U kojem krvotoku se nalaze arterije i vene?**\n",
    "U velikom krvotoku.\n",
    "\n",
    "**5. Krvni tlak u arterijama se s udaljavanjem od srca sve više smanjuje. Točno/Netočno**\n",
    "Točno.\n",
    "\n"
   ]
  },
  {
   "cell_type": "markdown",
   "metadata": {},
   "source": [
    "*Zadatak:* Za učitani sistolički i dijastolički krvni tlak napiši program koji će pacijentu ispisati poruku o tlaku prema zadanoj tablici.\n",
    "\n",
    "![alt text](images/tlak.jpg)"
   ]
  },
  {
   "cell_type": "code",
   "execution_count": 33,
   "metadata": {},
   "outputs": [
    {
     "name": "stdout",
     "output_type": "stream",
     "text": [
      "Sistolicki tlak: 130\n",
      "Dijastolicki tlak: 90\n",
      "Sistolicki tlak: Granicno normalan\n",
      "Dijastolicki tlak: 1.stupanj hipertenzije\n"
     ]
    }
   ],
   "source": [
    "s=int(input('Sistolicki tlak: '))\n",
    "d=int(input('Dijastolicki tlak: '))\n",
    "si='Sistolicki tlak:'\n",
    "di='Dijastolicki tlak:'\n",
    "  \n",
    "if s<120:\n",
    "    a='Optimalan'\n",
    "    print ('{} {}'.format(si, a))\n",
    "elif s>=120 and s<=129:\n",
    "    a='Normalan'\n",
    "    print ('{} {}'.format(si, a))\n",
    "elif s>=130 and s<=139:\n",
    "    a='Granicno normalan'\n",
    "    print ('{} {}'.format(si, a))\n",
    "elif s>=140 and s<=159:\n",
    "    a='1.stupanj hipertenzije'\n",
    "    print ('{} {}'.format(si, a))\n",
    "elif s>=160 and s<=179:\n",
    "    a='2.stupanj hipertenzije'\n",
    "    print ('{} {}'.format(si, a))\n",
    "elif s>=180:\n",
    "    a='3.stupanj hipertenzije'\n",
    "    print ('{} {}'.format(si, a))\n",
    "else:\n",
    "    print ('Nepostojeca vrijednost')\n",
    "    \n",
    "if d<80:\n",
    "    b='Optimalan'\n",
    "    print ('{} {}'.format(di, b))\n",
    "elif d>=80 and d<=84:\n",
    "    b='Normalan'\n",
    "    print ('{} {}'.format(di, b))\n",
    "elif d>=85 and d<=89:\n",
    "    b='Granicno normalan'\n",
    "    print ('{} {}'.format(di, b))\n",
    "elif d>=90 and d<=99:\n",
    "    b='1.stupanj hipertenzije'\n",
    "    print ('{} {}'.format(di, b))\n",
    "elif d>=100 and d<=109:\n",
    "    b='2.stupanj hipertenzije'\n",
    "    print ('{} {}'.format(di, b))\n",
    "elif d>=110:\n",
    "    b='3.stupanj hipertenzije'\n",
    "    print ('{} {}'.format(si, b))\n",
    "else:\n",
    "    print ('Nepostojeca vrijednost')\n"
   ]
  },
  {
   "cell_type": "markdown",
   "metadata": {},
   "source": [
    "*Zadatak:* Napisi program koji ce ovisno o ucitanoj poruci iz prethodnog zadatka ostaviti korisniku savjet kako sniziti/povisiti tlak.\n"
   ]
  },
  {
   "cell_type": "code",
   "execution_count": 36,
   "metadata": {},
   "outputs": [
    {
     "name": "stdout",
     "output_type": "stream",
     "text": [
      "Sistolicki tlak: Vas tlak je normalan, ali ste na granicnoj vrijednosti. Pripazite na svakodnevnicu, unos namirnica i aktivnosti tijekom dana.\n",
      "Dijastolicki tlak: Vas tlak je umjereno visok. Pripazite na tezinu i budite aktivni tijekom dana!\n"
     ]
    }
   ],
   "source": [
    "opt='Vas tlak je u redu. Samo nastavnite tako!'\n",
    "nor='Vas tlak je skolski'\n",
    "gn='Vas tlak je normalan, ali ste na granicnoj vrijednosti. Pripazite na svakodnevnicu, unos namirnica i aktivnosti tijekom dana.'\n",
    "h1='Vas tlak je umjereno visok. Pripazite na tezinu i budite aktivni tijekom dana!'\n",
    "h23='Vas tlak je iznimno visok. Hodajte svaki dan barem 30 min, koristite manje soli u prehrani, jedite hranu bogatu vlaknima.'\n",
    "\n",
    "\n",
    "if a=='Optimalan':\n",
    "    print ('{} {}'.format(si, opt))\n",
    "elif a=='Normalan':\n",
    "    print ('{} {}'.format(si, nor))\n",
    "elif a=='Granicno normalan':\n",
    "    print ('{} {}'.format(si, gn))\n",
    "elif a=='1.stupanj hipertenzije':\n",
    "    print ('{} {}'.format(si, h1))\n",
    "elif a=='2.stupanj hipertenzije' or a=='3.stupanj hipertenzije':\n",
    "     print ('{} {}'.format(si, h23))\n",
    "    \n",
    "if b=='Optimalan':\n",
    "    print ('{} {}'.format(di, opt))\n",
    "elif b=='Normalan':\n",
    "    print ('{} {}'.format(di, nor))\n",
    "elif b=='Granicno normalan':\n",
    "    print ('{} {}'.format(di, gn))\n",
    "elif b=='1.stupanj hipertenzije':\n",
    "    print ('{} {}'.format(di, h1))\n",
    "elif b=='2.stupanj hipertenzije' or b=='3.stupanj hipertenzije':\n",
    "     print ('{} {}'.format(di, h23))"
   ]
  },
  {
   "cell_type": "markdown",
   "metadata": {},
   "source": [
    "\n",
    "### Savjeti za visoki i niski tlak\n",
    "\n",
    "U slučaju visokog tlaka trebamo paziti na prehranu - hraniti se zdravo, unositi dovoljno vlakana i zdrave hrane, izbjegavati pušenje, alkohol i previše soli. Treba se baviti aktivno fizičkim aktivnostima, a preporučuje se i dnevna šetnja.\n",
    "\n",
    "Visoki tlak puno je opasniji od niskog tlaka, no niski tlak isto ne treba zanemariti. Uz nizak tlak možete osjećati vrtoglavicu, mučninu, nedostatak energije itd. U slučaju niskog tlaka važno je piti dovoljno tekućine, izbjegavati stresne situacije, a preporučuje se i vježbanje."
   ]
  },
  {
   "cell_type": "markdown",
   "metadata": {},
   "source": [
    "Slika klasičnog tlakomjera: \n",
    "\n",
    "![alt text](images/tlakomjer.jpg)\n",
    "*Izvor:kvantum-tim.hr*\n",
    "\n"
   ]
  }
 ],
 "metadata": {
  "kernelspec": {
   "display_name": "Python 3",
   "language": "python",
   "name": "python3"
  },
  "language_info": {
   "codemirror_mode": {
    "name": "ipython",
    "version": 3
   },
   "file_extension": ".py",
   "mimetype": "text/x-python",
   "name": "python",
   "nbconvert_exporter": "python",
   "pygments_lexer": "ipython3",
   "version": "3.5.4"
  }
 },
 "nbformat": 4,
 "nbformat_minor": 2
}
