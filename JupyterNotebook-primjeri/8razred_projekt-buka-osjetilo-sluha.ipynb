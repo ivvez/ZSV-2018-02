{
 "cells": [
  {
   "cell_type": "markdown",
   "metadata": {
    "collapsed": true
   },
   "source": [
    "## Osjetilo sluha"
   ]
  },
  {
   "cell_type": "markdown",
   "metadata": {},
   "source": [
    "Projekt izradila: D.D., 8.a razred"
   ]
  },
  {
   "cell_type": "markdown",
   "metadata": {},
   "source": [
    "**Pitanja iz biologije:**\n",
    "    \n",
    "**1. Što sve čini osjetilo sluha?**\n",
    "Osjetilo sluha čine uši, slušni živci i središte za sluh u velikom mozgu.\n",
    "\n",
    "**2. Opiši dijelove vanjskog uha.**\n",
    "Čine ga ušna školjka i slušni kanal, a na njegovom kraju nalazi se bubnjić.\n",
    "\n",
    "**3. U kojem dijelu uha se nalazi pužnica?**\n",
    "U srednjem uhu.\n",
    "\n",
    "**4. Objasni ulogu ušne školjke.**\n",
    "Ona zvučne valove usmjerava prema slušnom kanalu i dalje prema bubnjiću koji onda zatitra.\n",
    "\n",
    "**5. Nabroji nekoliko poremećaja osjetila sluha.**\n",
    "Nagluhost, gluhoća, izlaganje buci...\n",
    "\n"
   ]
  },
  {
   "cell_type": "markdown",
   "metadata": {},
   "source": [
    "*Zadatak: Napiši program koji će za učitani intenzitet zvuka ispisati odgovarajuću poruku prema tablici. Ukoliko je intenzitet buke veći od 90 dB ispisat će se dodatna poruka: Izlaganje buci ovog intenziteta duže od 1 min dovodi do gubitka sluha. Ukoliko je intenzitet buke veći od 110 dB ispisat će se poruka: Izlaganje buci ovog intenziteta duže od 1 min dovodi do trajnog gubitka sluha.*"
   ]
  },
  {
   "cell_type": "markdown",
   "metadata": {},
   "source": [
    "\n",
    "![alt text](images/tbl-zvuk2.jpg)\n"
   ]
  },
  {
   "cell_type": "code",
   "execution_count": 2,
   "metadata": {},
   "outputs": [
    {
     "name": "stdout",
     "output_type": "stream",
     "text": [
      "Intenzitet zvuka: 95\n",
      "Vrlo glasno\n",
      "Izlaganje buci ovog intenziteta duže od 1 min dovodi do gubitka sluha.\n"
     ]
    }
   ],
   "source": [
    "z=int(input('Intenzitet zvuka: '))\n",
    "if z<20:\n",
    "    print ('Nema opasnosti')\n",
    "elif z>=20 and z<=40:\n",
    "    print ('Tiho')\n",
    "elif z>=50 and z<60:\n",
    "    print ('Umjereno glasno')\n",
    "elif z>=60 and z<80:\n",
    "    print ('Glasno')\n",
    "elif z>=80 and z<=100:\n",
    "    print ('Vrlo glasno')\n",
    "else:\n",
    "    print ('Ekstremno glasno')\n",
    "\n",
    "if z>90 and z<110:\n",
    "    print ('Izlaganje buci ovog intenziteta duže od 1 min dovodi do gubitka sluha.')\n",
    "elif z>=110:\n",
    "    print ('Izlaganje buci ovog intenziteta duže od 1 min dovodi do trajnog gubitka sluha.')"
   ]
  },
  {
   "cell_type": "markdown",
   "metadata": {},
   "source": [
    "\n",
    "*Zadatak: Na stranici http://www.noisehelp.com odaberi nekoliko elemenata i njihov intenzitet buke te rezultat prikaži grafički.*"
   ]
  },
  {
   "cell_type": "code",
   "execution_count": 16,
   "metadata": {},
   "outputs": [
    {
     "data": {
      "image/png": "[encoded data removed]",
      "text/plain": [
       "<matplotlib.figure.Figure at 0x7fadb8c50630>"
      ]
     },
     "metadata": {},
     "output_type": "display_data"
    }
   ],
   "source": [
    "import numpy as np\n",
    "import matplotlib.pyplot as plt\n",
    "%matplotlib inline\n",
    "\n",
    "mjesta = ('Šapat', 'Razgovor', 'Prometna ulica', 'U autobusu', 'Nogometna utakmica', 'Uzlijetanje zrakoplova')\n",
    "y = np.arange(len(mjesta))\n",
    "performance = [20,60,75,80,100,140]\n",
    " \n",
    "plt.figure(figsize=(14,6))\n",
    "plt.bar(y, performance, align='center', alpha=0.5)\n",
    "plt.xticks(y, mjesta)\n",
    "plt.ylabel('dB')\n",
    "plt.title('Intenzitet zvuka')\n",
    " \n",
    "plt.show()"
   ]
  },
  {
   "cell_type": "markdown",
   "metadata": {},
   "source": [
    "\n",
    "*Slika:* Građa uha (izvor: http://www.puznica.hr)"
   ]
  },
  {
   "cell_type": "markdown",
   "metadata": {},
   "source": [
    "![alt text](images/uho.jpg)"
   ]
  }
 ],
 "metadata": {
  "kernelspec": {
   "display_name": "Python 3",
   "language": "python",
   "name": "python3"
  },
  "language_info": {
   "codemirror_mode": {
    "name": "ipython",
    "version": 3
   },
   "file_extension": ".py",
   "mimetype": "text/x-python",
   "name": "python",
   "nbconvert_exporter": "python",
   "pygments_lexer": "ipython3",
   "version": "3.5.4"
  }
 },
 "nbformat": 4,
 "nbformat_minor": 2
}
